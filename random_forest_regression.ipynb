{
 "cells": [
  {
   "attachments": {},
   "cell_type": "markdown",
   "metadata": {},
   "source": [
    "Importin the libraries"
   ]
  },
  {
   "cell_type": "code",
   "execution_count": 1,
   "metadata": {},
   "outputs": [],
   "source": [
    "import numpy as np\n",
    "import matplotlib.pyplot as plt\n",
    "import pandas as pd"
   ]
  },
  {
   "attachments": {},
   "cell_type": "markdown",
   "metadata": {},
   "source": [
    "importing the dataset"
   ]
  },
  {
   "cell_type": "code",
   "execution_count": 2,
   "metadata": {},
   "outputs": [
    {
     "name": "stdout",
     "output_type": "stream",
     "text": [
      "[[1.90000000e+01 2.50000000e+01 1.75400010e+01 1.87663000e+07]\n",
      " [2.57900010e+01 3.04200000e+01 2.32999990e+01 1.71871000e+07]\n",
      " [2.50000000e+01 2.59200000e+01 2.02700000e+01 8.21880000e+06]\n",
      " ...\n",
      " [6.32419983e+02 6.50880005e+02 6.18000000e+02 2.90057000e+07]\n",
      " [6.40000000e+02 6.53000000e+02 6.32520020e+02 1.57193000e+07]\n",
      " [6.73690002e+02 7.86140015e+02 6.73520020e+02 4.70650000e+07]]\n"
     ]
    }
   ],
   "source": [
    "dataset = pd.read_csv('TSLA.csv')\n",
    "x_train = dataset[['Open', 'High', 'Low', 'Volume']].values\n",
    "y_train = dataset[['Close']].values\n",
    "print (x_train)"
   ]
  },
  {
   "attachments": {},
   "cell_type": "markdown",
   "metadata": {},
   "source": [
    "Training the Multiple random forest Regression model on the Training set"
   ]
  },
  {
   "cell_type": "code",
   "execution_count": 3,
   "metadata": {},
   "outputs": [
    {
     "name": "stderr",
     "output_type": "stream",
     "text": [
      "C:\\Users\\kkamo\\AppData\\Local\\Temp\\ipykernel_10456\\211180486.py:3: DataConversionWarning: A column-vector y was passed when a 1d array was expected. Please change the shape of y to (n_samples,), for example using ravel().\n",
      "  regressor.fit(x_train, y_train)\n"
     ]
    },
    {
     "data": {
      "text/html": [
       "<style>#sk-container-id-1 {color: black;background-color: white;}#sk-container-id-1 pre{padding: 0;}#sk-container-id-1 div.sk-toggleable {background-color: white;}#sk-container-id-1 label.sk-toggleable__label {cursor: pointer;display: block;width: 100%;margin-bottom: 0;padding: 0.3em;box-sizing: border-box;text-align: center;}#sk-container-id-1 label.sk-toggleable__label-arrow:before {content: \"▸\";float: left;margin-right: 0.25em;color: #696969;}#sk-container-id-1 label.sk-toggleable__label-arrow:hover:before {color: black;}#sk-container-id-1 div.sk-estimator:hover label.sk-toggleable__label-arrow:before {color: black;}#sk-container-id-1 div.sk-toggleable__content {max-height: 0;max-width: 0;overflow: hidden;text-align: left;background-color: #f0f8ff;}#sk-container-id-1 div.sk-toggleable__content pre {margin: 0.2em;color: black;border-radius: 0.25em;background-color: #f0f8ff;}#sk-container-id-1 input.sk-toggleable__control:checked~div.sk-toggleable__content {max-height: 200px;max-width: 100%;overflow: auto;}#sk-container-id-1 input.sk-toggleable__control:checked~label.sk-toggleable__label-arrow:before {content: \"▾\";}#sk-container-id-1 div.sk-estimator input.sk-toggleable__control:checked~label.sk-toggleable__label {background-color: #d4ebff;}#sk-container-id-1 div.sk-label input.sk-toggleable__control:checked~label.sk-toggleable__label {background-color: #d4ebff;}#sk-container-id-1 input.sk-hidden--visually {border: 0;clip: rect(1px 1px 1px 1px);clip: rect(1px, 1px, 1px, 1px);height: 1px;margin: -1px;overflow: hidden;padding: 0;position: absolute;width: 1px;}#sk-container-id-1 div.sk-estimator {font-family: monospace;background-color: #f0f8ff;border: 1px dotted black;border-radius: 0.25em;box-sizing: border-box;margin-bottom: 0.5em;}#sk-container-id-1 div.sk-estimator:hover {background-color: #d4ebff;}#sk-container-id-1 div.sk-parallel-item::after {content: \"\";width: 100%;border-bottom: 1px solid gray;flex-grow: 1;}#sk-container-id-1 div.sk-label:hover label.sk-toggleable__label {background-color: #d4ebff;}#sk-container-id-1 div.sk-serial::before {content: \"\";position: absolute;border-left: 1px solid gray;box-sizing: border-box;top: 0;bottom: 0;left: 50%;z-index: 0;}#sk-container-id-1 div.sk-serial {display: flex;flex-direction: column;align-items: center;background-color: white;padding-right: 0.2em;padding-left: 0.2em;position: relative;}#sk-container-id-1 div.sk-item {position: relative;z-index: 1;}#sk-container-id-1 div.sk-parallel {display: flex;align-items: stretch;justify-content: center;background-color: white;position: relative;}#sk-container-id-1 div.sk-item::before, #sk-container-id-1 div.sk-parallel-item::before {content: \"\";position: absolute;border-left: 1px solid gray;box-sizing: border-box;top: 0;bottom: 0;left: 50%;z-index: -1;}#sk-container-id-1 div.sk-parallel-item {display: flex;flex-direction: column;z-index: 1;position: relative;background-color: white;}#sk-container-id-1 div.sk-parallel-item:first-child::after {align-self: flex-end;width: 50%;}#sk-container-id-1 div.sk-parallel-item:last-child::after {align-self: flex-start;width: 50%;}#sk-container-id-1 div.sk-parallel-item:only-child::after {width: 0;}#sk-container-id-1 div.sk-dashed-wrapped {border: 1px dashed gray;margin: 0 0.4em 0.5em 0.4em;box-sizing: border-box;padding-bottom: 0.4em;background-color: white;}#sk-container-id-1 div.sk-label label {font-family: monospace;font-weight: bold;display: inline-block;line-height: 1.2em;}#sk-container-id-1 div.sk-label-container {text-align: center;}#sk-container-id-1 div.sk-container {/* jupyter's `normalize.less` sets `[hidden] { display: none; }` but bootstrap.min.css set `[hidden] { display: none !important; }` so we also need the `!important` here to be able to override the default hidden behavior on the sphinx rendered scikit-learn.org. See: https://github.com/scikit-learn/scikit-learn/issues/21755 */display: inline-block !important;position: relative;}#sk-container-id-1 div.sk-text-repr-fallback {display: none;}</style><div id=\"sk-container-id-1\" class=\"sk-top-container\"><div class=\"sk-text-repr-fallback\"><pre>RandomForestRegressor(max_features=6, n_estimators=1000, random_state=126)</pre><b>In a Jupyter environment, please rerun this cell to show the HTML representation or trust the notebook. <br />On GitHub, the HTML representation is unable to render, please try loading this page with nbviewer.org.</b></div><div class=\"sk-container\" hidden><div class=\"sk-item\"><div class=\"sk-estimator sk-toggleable\"><input class=\"sk-toggleable__control sk-hidden--visually\" id=\"sk-estimator-id-1\" type=\"checkbox\" checked><label for=\"sk-estimator-id-1\" class=\"sk-toggleable__label sk-toggleable__label-arrow\">RandomForestRegressor</label><div class=\"sk-toggleable__content\"><pre>RandomForestRegressor(max_features=6, n_estimators=1000, random_state=126)</pre></div></div></div></div></div>"
      ],
      "text/plain": [
       "RandomForestRegressor(max_features=6, n_estimators=1000, random_state=126)"
      ]
     },
     "execution_count": 3,
     "metadata": {},
     "output_type": "execute_result"
    }
   ],
   "source": [
    "from sklearn.ensemble import RandomForestRegressor\n",
    "regressor = RandomForestRegressor(n_estimators=1000, random_state=126, max_features= 6)\n",
    "regressor.fit(x_train, y_train)"
   ]
  },
  {
   "cell_type": "markdown",
   "metadata": {},
   "source": [
    "Import test dataset from alphavantage"
   ]
  },
  {
   "cell_type": "code",
   "execution_count": 4,
   "metadata": {},
   "outputs": [
    {
     "name": "stdout",
     "output_type": "stream",
     "text": [
      "{'Meta Data': {'1. Information': 'Daily Time Series with Splits and Dividend Events', '2. Symbol': 'TSLA', '3. Last Refreshed': '2023-03-20', '4. Output Size': 'Compact', '5. Time Zone': 'US/Eastern'}, 'Time Series (Daily)': {'2023-03-20': {'1. open': '178.08', '2. high': '186.44', '3. low': '176.35', '4. close': '183.25', '5. adjusted close': '183.25', '6. volume': '129684359', '7. dividend amount': '0.0000', '8. split coefficient': '1.0'}, '2023-03-17': {'1. open': '184.515', '2. high': '186.2199', '3. low': '177.33', '4. close': '180.13', '5. adjusted close': '180.13', '6. volume': '133197140', '7. dividend amount': '0.0000', '8. split coefficient': '1.0'}, '2023-03-16': {'1. open': '180.365', '2. high': '185.81', '3. low': '178.84', '4. close': '184.13', '5. adjusted close': '184.13', '6. volume': '121374453', '7. dividend amount': '0.0000', '8. split coefficient': '1.0'}, '2023-03-15': {'1. open': '180.8', '2. high': '182.34', '3. low': '176.03', '4. close': '180.45', '5. adjusted close': '180.45', '6. volume': '145995583', '7. dividend amount': '0.0000', '8. split coefficient': '1.0'}, '2023-03-14': {'1. open': '177.31', '2. high': '183.8', '3. low': '177.1401', '4. close': '183.26', '5. adjusted close': '183.26', '6. volume': '143717897', '7. dividend amount': '0.0000', '8. split coefficient': '1.0'}, '2023-03-13': {'1. open': '167.455', '2. high': '177.35', '3. low': '163.91', '4. close': '174.48', '5. adjusted close': '174.48', '6. volume': '167790256', '7. dividend amount': '0.0000', '8. split coefficient': '1.0'}, '2023-03-10': {'1. open': '175.13', '2. high': '178.29', '3. low': '168.44', '4. close': '173.44', '5. adjusted close': '173.44', '6. volume': '191488872', '7. dividend amount': '0.0000', '8. split coefficient': '1.0'}, '2023-03-09': {'1. open': '180.25', '2. high': '185.18', '3. low': '172.5124', '4. close': '172.92', '5. adjusted close': '172.92', '6. volume': '170023794', '7. dividend amount': '0.0000', '8. split coefficient': '1.0'}, '2023-03-08': {'1. open': '185.04', '2. high': '186.5', '3. low': '180.0', '4. close': '182.0', '5. adjusted close': '182.0', '6. volume': '151897763', '7. dividend amount': '0.0000', '8. split coefficient': '1.0'}, '2023-03-07': {'1. open': '191.38', '2. high': '194.2', '3. low': '186.1', '4. close': '187.71', '5. adjusted close': '187.71', '6. volume': '148125790', '7. dividend amount': '0.0000', '8. split coefficient': '1.0'}, '2023-03-06': {'1. open': '198.54', '2. high': '198.6', '3. low': '192.3', '4. close': '193.81', '5. adjusted close': '193.81', '6. volume': '128100106', '7. dividend amount': '0.0000', '8. split coefficient': '1.0'}, '2023-03-03': {'1. open': '194.795', '2. high': '200.48', '3. low': '192.88', '4. close': '197.79', '5. adjusted close': '197.79', '6. volume': '154193277', '7. dividend amount': '0.0000', '8. split coefficient': '1.0'}, '2023-03-02': {'1. open': '186.74', '2. high': '193.7499', '3. low': '186.01', '4. close': '190.9', '5. adjusted close': '190.9', '6. volume': '181979154', '7. dividend amount': '0.0000', '8. split coefficient': '1.0'}, '2023-03-01': {'1. open': '206.21', '2. high': '207.2', '3. low': '198.52', '4. close': '202.77', '5. adjusted close': '202.77', '6. volume': '156852790', '7. dividend amount': '0.0000', '8. split coefficient': '1.0'}, '2023-02-28': {'1. open': '210.59', '2. high': '211.23', '3. low': '203.75', '4. close': '205.71', '5. adjusted close': '205.71', '6. volume': '153144912', '7. dividend amount': '0.0000', '8. split coefficient': '1.0'}, '2023-02-27': {'1. open': '202.03', '2. high': '209.42', '3. low': '201.26', '4. close': '207.63', '5. adjusted close': '207.63', '6. volume': '161028315', '7. dividend amount': '0.0000', '8. split coefficient': '1.0'}, '2023-02-24': {'1. open': '196.325', '2. high': '197.6695', '3. low': '192.8', '4. close': '196.88', '5. adjusted close': '196.88', '6. volume': '142228105', '7. dividend amount': '0.0000', '8. split coefficient': '1.0'}, '2023-02-23': {'1. open': '203.91', '2. high': '205.14', '3. low': '196.33', '4. close': '202.07', '5. adjusted close': '202.07', '6. volume': '146359950', '7. dividend amount': '0.0000', '8. split coefficient': '1.0'}, '2023-02-22': {'1. open': '197.93', '2. high': '201.99', '3. low': '191.78', '4. close': '200.86', '5. adjusted close': '200.86', '6. volume': '191828457', '7. dividend amount': '0.0000', '8. split coefficient': '1.0'}, '2023-02-21': {'1. open': '204.99', '2. high': '209.71', '3. low': '197.22', '4. close': '197.37', '5. adjusted close': '197.37', '6. volume': '180018588', '7. dividend amount': '0.0000', '8. split coefficient': '1.0'}, '2023-02-17': {'1. open': '199.985', '2. high': '208.44', '3. low': '197.5', '4. close': '208.31', '5. adjusted close': '208.31', '6. volume': '213738549', '7. dividend amount': '0.0000', '8. split coefficient': '1.0'}, '2023-02-16': {'1. open': '210.78', '2. high': '217.65', '3. low': '201.84', '4. close': '202.04', '5. adjusted close': '202.04', '6. volume': '229586538', '7. dividend amount': '0.0000', '8. split coefficient': '1.0'}, '2023-02-15': {'1. open': '211.755', '2. high': '214.66', '3. low': '206.11', '4. close': '214.24', '5. adjusted close': '214.24', '6. volume': '182108581', '7. dividend amount': '0.0000', '8. split coefficient': '1.0'}, '2023-02-14': {'1. open': '191.94', '2. high': '209.82', '3. low': '189.44', '4. close': '209.25', '5. adjusted close': '209.25', '6. volume': '216455708', '7. dividend amount': '0.0000', '8. split coefficient': '1.0'}, '2023-02-13': {'1. open': '194.415', '2. high': '196.3', '3. low': '187.61', '4. close': '194.64', '5. adjusted close': '194.64', '6. volume': '172475452', '7. dividend amount': '0.0000', '8. split coefficient': '1.0'}, '2023-02-10': {'1. open': '202.225', '2. high': '206.2', '3. low': '192.89', '4. close': '196.89', '5. adjusted close': '196.89', '6. volume': '204754129', '7. dividend amount': '0.0000', '8. split coefficient': '1.0'}, '2023-02-09': {'1. open': '207.775', '2. high': '214.0', '3. low': '204.77', '4. close': '207.32', '5. adjusted close': '207.32', '6. volume': '215431442', '7. dividend amount': '0.0000', '8. split coefficient': '1.0'}, '2023-02-08': {'1. open': '196.1', '2. high': '203.0', '3. low': '194.31', '4. close': '201.29', '5. adjusted close': '201.29', '6. volume': '180673644', '7. dividend amount': '0.0000', '8. split coefficient': '1.0'}, '2023-02-07': {'1. open': '196.43', '2. high': '197.5', '3. low': '189.55', '4. close': '196.81', '5. adjusted close': '196.81', '6. volume': '186010325', '7. dividend amount': '0.0000', '8. split coefficient': '1.0'}, '2023-02-06': {'1. open': '193.01', '2. high': '198.17', '3. low': '189.92', '4. close': '194.76', '5. adjusted close': '194.76', '6. volume': '186188131', '7. dividend amount': '0.0000', '8. split coefficient': '1.0'}, '2023-02-03': {'1. open': '183.95', '2. high': '199.0', '3. low': '183.69', '4. close': '189.98', '5. adjusted close': '189.98', '6. volume': '232662023', '7. dividend amount': '0.0000', '8. split coefficient': '1.0'}, '2023-02-02': {'1. open': '187.325', '2. high': '196.7501', '3. low': '182.61', '4. close': '188.27', '5. adjusted close': '188.27', '6. volume': '217448287', '7. dividend amount': '0.0000', '8. split coefficient': '1.0'}, '2023-02-01': {'1. open': '173.89', '2. high': '183.805', '3. low': '169.93', '4. close': '181.41', '5. adjusted close': '181.41', '6. volume': '213806323', '7. dividend amount': '0.0000', '8. split coefficient': '1.0'}, '2023-01-31': {'1. open': '164.57', '2. high': '174.3', '3. low': '162.78', '4. close': '173.22', '5. adjusted close': '173.22', '6. volume': '196813541', '7. dividend amount': '0.0000', '8. split coefficient': '1.0'}, '2023-01-30': {'1. open': '178.05', '2. high': '179.77', '3. low': '166.5', '4. close': '166.66', '5. adjusted close': '166.66', '6. volume': '230878807', '7. dividend amount': '0.0000', '8. split coefficient': '1.0'}, '2023-01-27': {'1. open': '162.43', '2. high': '180.68', '3. low': '161.17', '4. close': '177.9', '5. adjusted close': '177.9', '6. volume': '306590613', '7. dividend amount': '0.0000', '8. split coefficient': '1.0'}, '2023-01-26': {'1. open': '159.965', '2. high': '161.42', '3. low': '154.76', '4. close': '160.27', '5. adjusted close': '160.27', '6. volume': '234815090', '7. dividend amount': '0.0000', '8. split coefficient': '1.0'}, '2023-01-25': {'1. open': '141.905', '2. high': '146.41', '3. low': '138.07', '4. close': '144.43', '5. adjusted close': '144.43', '6. volume': '192734347', '7. dividend amount': '0.0000', '8. split coefficient': '1.0'}, '2023-01-24': {'1. open': '143.0', '2. high': '146.5', '3. low': '141.1', '4. close': '143.89', '5. adjusted close': '143.89', '6. volume': '158699056', '7. dividend amount': '0.0000', '8. split coefficient': '1.0'}, '2023-01-23': {'1. open': '135.87', '2. high': '145.3793', '3. low': '134.27', '4. close': '143.75', '5. adjusted close': '143.75', '6. volume': '203119211', '7. dividend amount': '0.0000', '8. split coefficient': '1.0'}, '2023-01-20': {'1. open': '128.68', '2. high': '133.51', '3. low': '127.3466', '4. close': '133.42', '5. adjusted close': '133.42', '6. volume': '138858136', '7. dividend amount': '0.0000', '8. split coefficient': '1.0'}, '2023-01-19': {'1. open': '127.26', '2. high': '129.99', '3. low': '124.3082', '4. close': '127.17', '5. adjusted close': '127.17', '6. volume': '170291880', '7. dividend amount': '0.0000', '8. split coefficient': '1.0'}, '2023-01-18': {'1. open': '136.555', '2. high': '136.68', '3. low': '127.01', '4. close': '128.78', '5. adjusted close': '128.78', '6. volume': '195680318', '7. dividend amount': '0.0000', '8. split coefficient': '1.0'}, '2023-01-17': {'1. open': '125.695', '2. high': '131.7', '3. low': '125.02', '4. close': '131.49', '5. adjusted close': '131.49', '6. volume': '186476985', '7. dividend amount': '0.0000', '8. split coefficient': '1.0'}, '2023-01-13': {'1. open': '116.55', '2. high': '122.63', '3. low': '115.6', '4. close': '122.4', '5. adjusted close': '122.4', '6. volume': '180714119', '7. dividend amount': '0.0000', '8. split coefficient': '1.0'}, '2023-01-12': {'1. open': '122.56', '2. high': '124.1311', '3. low': '117.0', '4. close': '123.56', '5. adjusted close': '123.56', '6. volume': '169400913', '7. dividend amount': '0.0000', '8. split coefficient': '1.0'}, '2023-01-11': {'1. open': '122.09', '2. high': '125.95', '3. low': '120.51', '4. close': '123.22', '5. adjusted close': '123.22', '6. volume': '183810771', '7. dividend amount': '0.0000', '8. split coefficient': '1.0'}, '2023-01-10': {'1. open': '121.07', '2. high': '122.76', '3. low': '114.92', '4. close': '118.85', '5. adjusted close': '118.85', '6. volume': '167642485', '7. dividend amount': '0.0000', '8. split coefficient': '1.0'}, '2023-01-09': {'1. open': '118.96', '2. high': '123.52', '3. low': '117.11', '4. close': '119.77', '5. adjusted close': '119.77', '6. volume': '190283951', '7. dividend amount': '0.0000', '8. split coefficient': '1.0'}, '2023-01-06': {'1. open': '103.0', '2. high': '114.39', '3. low': '101.81', '4. close': '113.06', '5. adjusted close': '113.06', '6. volume': '220911051', '7. dividend amount': '0.0000', '8. split coefficient': '1.0'}, '2023-01-05': {'1. open': '110.51', '2. high': '111.75', '3. low': '107.1601', '4. close': '110.34', '5. adjusted close': '110.34', '6. volume': '157986324', '7. dividend amount': '0.0000', '8. split coefficient': '1.0'}, '2023-01-04': {'1. open': '109.11', '2. high': '114.59', '3. low': '107.52', '4. close': '113.64', '5. adjusted close': '113.64', '6. volume': '180388976', '7. dividend amount': '0.0000', '8. split coefficient': '1.0'}, '2023-01-03': {'1. open': '118.47', '2. high': '118.8', '3. low': '104.64', '4. close': '108.1', '5. adjusted close': '108.1', '6. volume': '231402818', '7. dividend amount': '0.0000', '8. split coefficient': '1.0'}, '2022-12-30': {'1. open': '119.95', '2. high': '124.48', '3. low': '119.75', '4. close': '123.18', '5. adjusted close': '123.18', '6. volume': '157777339', '7. dividend amount': '0.0000', '8. split coefficient': '1.0'}, '2022-12-29': {'1. open': '120.385', '2. high': '123.57', '3. low': '117.495', '4. close': '121.82', '5. adjusted close': '121.82', '6. volume': '221923313', '7. dividend amount': '0.0000', '8. split coefficient': '1.0'}, '2022-12-28': {'1. open': '110.35', '2. high': '116.27', '3. low': '108.24', '4. close': '112.71', '5. adjusted close': '112.71', '6. volume': '221070537', '7. dividend amount': '0.0000', '8. split coefficient': '1.0'}, '2022-12-27': {'1. open': '117.495', '2. high': '119.67', '3. low': '108.76', '4. close': '109.1', '5. adjusted close': '109.1', '6. volume': '208643444', '7. dividend amount': '0.0000', '8. split coefficient': '1.0'}, '2022-12-23': {'1. open': '126.37', '2. high': '128.6173', '3. low': '121.02', '4. close': '123.15', '5. adjusted close': '123.15', '6. volume': '166989688', '7. dividend amount': '0.0000', '8. split coefficient': '1.0'}, '2022-12-22': {'1. open': '136.0', '2. high': '136.63', '3. low': '122.26', '4. close': '125.35', '5. adjusted close': '125.35', '6. volume': '210090250', '7. dividend amount': '0.0000', '8. split coefficient': '1.0'}, '2022-12-21': {'1. open': '139.335', '2. high': '141.26', '3. low': '135.89', '4. close': '137.57', '5. adjusted close': '137.57', '6. volume': '145417412', '7. dividend amount': '0.0000', '8. split coefficient': '1.0'}, '2022-12-20': {'1. open': '146.05', '2. high': '148.47', '3. low': '137.66', '4. close': '137.8', '5. adjusted close': '137.8', '6. volume': '159563267', '7. dividend amount': '0.0000', '8. split coefficient': '1.0'}, '2022-12-19': {'1. open': '154.0', '2. high': '155.25', '3. low': '145.82', '4. close': '149.87', '5. adjusted close': '149.87', '6. volume': '139390634', '7. dividend amount': '0.0000', '8. split coefficient': '1.0'}, '2022-12-16': {'1. open': '159.635', '2. high': '160.99', '3. low': '150.04', '4. close': '150.23', '5. adjusted close': '150.23', '6. volume': '139032175', '7. dividend amount': '0.0000', '8. split coefficient': '1.0'}, '2022-12-15': {'1. open': '153.44', '2. high': '160.9299', '3. low': '153.28', '4. close': '157.67', '5. adjusted close': '157.67', '6. volume': '122334459', '7. dividend amount': '0.0000', '8. split coefficient': '1.0'}, '2022-12-14': {'1. open': '159.25', '2. high': '161.62', '3. low': '155.31', '4. close': '156.8', '5. adjusted close': '156.8', '6. volume': '140682338', '7. dividend amount': '0.0000', '8. split coefficient': '1.0'}, '2022-12-13': {'1. open': '174.87', '2. high': '175.05', '3. low': '156.91', '4. close': '160.95', '5. adjusted close': '160.95', '6. volume': '175862722', '7. dividend amount': '0.0000', '8. split coefficient': '1.0'}, '2022-12-12': {'1. open': '176.1', '2. high': '177.37', '3. low': '167.52', '4. close': '167.82', '5. adjusted close': '167.82', '6. volume': '109794471', '7. dividend amount': '0.0000', '8. split coefficient': '1.0'}, '2022-12-09': {'1. open': '173.84', '2. high': '182.5', '3. low': '173.36', '4. close': '179.05', '5. adjusted close': '179.05', '6. volume': '104872336', '7. dividend amount': '0.0000', '8. split coefficient': '1.0'}, '2022-12-08': {'1. open': '172.2', '2. high': '175.2', '3. low': '169.06', '4. close': '173.44', '5. adjusted close': '173.44', '6. volume': '97624491', '7. dividend amount': '0.0000', '8. split coefficient': '1.0'}, '2022-12-07': {'1. open': '175.03', '2. high': '179.38', '3. low': '172.218', '4. close': '174.04', '5. adjusted close': '174.04', '6. volume': '84213284', '7. dividend amount': '0.0000', '8. split coefficient': '1.0'}, '2022-12-06': {'1. open': '181.215', '2. high': '183.65', '3. low': '175.33', '4. close': '179.82', '5. adjusted close': '179.82', '6. volume': '92150823', '7. dividend amount': '0.0000', '8. split coefficient': '1.0'}, '2022-12-05': {'1. open': '189.44', '2. high': '191.27', '3. low': '180.55', '4. close': '182.45', '5. adjusted close': '182.45', '6. volume': '93122667', '7. dividend amount': '0.0000', '8. split coefficient': '1.0'}, '2022-12-02': {'1. open': '191.78', '2. high': '196.25', '3. low': '191.11', '4. close': '194.86', '5. adjusted close': '194.86', '6. volume': '73645922', '7. dividend amount': '0.0000', '8. split coefficient': '1.0'}, '2022-12-01': {'1. open': '197.08', '2. high': '198.92', '3. low': '191.8', '4. close': '194.7', '5. adjusted close': '194.7', '6. volume': '80046213', '7. dividend amount': '0.0000', '8. split coefficient': '1.0'}, '2022-11-30': {'1. open': '182.43', '2. high': '194.76', '3. low': '180.6301', '4. close': '194.7', '5. adjusted close': '194.7', '6. volume': '109186404', '7. dividend amount': '0.0000', '8. split coefficient': '1.0'}, '2022-11-29': {'1. open': '184.99', '2. high': '186.38', '3. low': '178.75', '4. close': '180.83', '5. adjusted close': '180.83', '6. volume': '83357111', '7. dividend amount': '0.0000', '8. split coefficient': '1.0'}, '2022-11-28': {'1. open': '179.96', '2. high': '188.5', '3. low': '179.0', '4. close': '182.92', '5. adjusted close': '182.92', '6. volume': '93038148', '7. dividend amount': '0.0000', '8. split coefficient': '1.0'}, '2022-11-25': {'1. open': '185.06', '2. high': '185.2', '3. low': '180.63', '4. close': '182.86', '5. adjusted close': '182.86', '6. volume': '50672739', '7. dividend amount': '0.0000', '8. split coefficient': '1.0'}, '2022-11-23': {'1. open': '173.57', '2. high': '183.62', '3. low': '172.5', '4. close': '183.2', '5. adjusted close': '183.2', '6. volume': '109536709', '7. dividend amount': '0.0000', '8. split coefficient': '1.0'}, '2022-11-22': {'1. open': '168.63', '2. high': '170.92', '3. low': '166.185', '4. close': '169.91', '5. adjusted close': '169.91', '6. volume': '78452327', '7. dividend amount': '0.0000', '8. split coefficient': '1.0'}, '2022-11-21': {'1. open': '175.85', '2. high': '176.77', '3. low': '167.54', '4. close': '167.87', '5. adjusted close': '167.87', '6. volume': '92882712', '7. dividend amount': '0.0000', '8. split coefficient': '1.0'}, '2022-11-18': {'1. open': '185.05', '2. high': '185.19', '3. low': '176.55', '4. close': '180.19', '5. adjusted close': '180.19', '6. volume': '76048866', '7. dividend amount': '0.0000', '8. split coefficient': '1.0'}, '2022-11-17': {'1. open': '183.96', '2. high': '186.16', '3. low': '180.9', '4. close': '183.17', '5. adjusted close': '183.17', '6. volume': '64335970', '7. dividend amount': '0.0000', '8. split coefficient': '1.0'}, '2022-11-16': {'1. open': '191.51', '2. high': '192.57', '3. low': '185.66', '4. close': '186.92', '5. adjusted close': '186.92', '6. volume': '66567599', '7. dividend amount': '0.0000', '8. split coefficient': '1.0'}, '2022-11-15': {'1. open': '195.88', '2. high': '200.8237', '3. low': '192.06', '4. close': '194.42', '5. adjusted close': '194.42', '6. volume': '91293785', '7. dividend amount': '0.0000', '8. split coefficient': '1.0'}, '2022-11-14': {'1. open': '192.77', '2. high': '195.73', '3. low': '186.34', '4. close': '190.95', '5. adjusted close': '190.95', '6. volume': '92226649', '7. dividend amount': '0.0000', '8. split coefficient': '1.0'}, '2022-11-11': {'1. open': '186.0', '2. high': '196.52', '3. low': '182.59', '4. close': '195.97', '5. adjusted close': '195.97', '6. volume': '114403575', '7. dividend amount': '0.0000', '8. split coefficient': '1.0'}, '2022-11-10': {'1. open': '189.9', '2. high': '191.0', '3. low': '180.03', '4. close': '190.72', '5. adjusted close': '190.72', '6. volume': '132703015', '7. dividend amount': '0.0000', '8. split coefficient': '1.0'}, '2022-11-09': {'1. open': '190.775', '2. high': '195.89', '3. low': '177.12', '4. close': '177.59', '5. adjusted close': '177.59', '6. volume': '127062659', '7. dividend amount': '0.0000', '8. split coefficient': '1.0'}, '2022-11-08': {'1. open': '194.02', '2. high': '195.2', '3. low': '186.75', '4. close': '191.3', '5. adjusted close': '191.3', '6. volume': '128803404', '7. dividend amount': '0.0000', '8. split coefficient': '1.0'}, '2022-11-07': {'1. open': '208.65', '2. high': '208.9', '3. low': '196.66', '4. close': '197.08', '5. adjusted close': '197.08', '6. volume': '93916520', '7. dividend amount': '0.0000', '8. split coefficient': '1.0'}, '2022-11-04': {'1. open': '222.6', '2. high': '223.8', '3. low': '203.08', '4. close': '207.47', '5. adjusted close': '207.47', '6. volume': '98622212', '7. dividend amount': '0.0000', '8. split coefficient': '1.0'}, '2022-11-03': {'1. open': '211.36', '2. high': '221.2', '3. low': '210.14', '4. close': '215.31', '5. adjusted close': '215.31', '6. volume': '56538848', '7. dividend amount': '0.0000', '8. split coefficient': '1.0'}, '2022-11-02': {'1. open': '226.04', '2. high': '227.8699', '3. low': '214.82', '4. close': '214.98', '5. adjusted close': '214.98', '6. volume': '63070293', '7. dividend amount': '0.0000', '8. split coefficient': '1.0'}, '2022-11-01': {'1. open': '234.05', '2. high': '237.3951', '3. low': '227.28', '4. close': '227.82', '5. adjusted close': '227.82', '6. volume': '62688822', '7. dividend amount': '0.0000', '8. split coefficient': '1.0'}, '2022-10-31': {'1. open': '226.19', '2. high': '229.85', '3. low': '221.94', '4. close': '227.54', '5. adjusted close': '227.54', '6. volume': '61554341', '7. dividend amount': '0.0000', '8. split coefficient': '1.0'}, '2022-10-28': {'1. open': '225.4', '2. high': '228.86', '3. low': '216.35', '4. close': '228.52', '5. adjusted close': '228.52', '6. volume': '69152386', '7. dividend amount': '0.0000', '8. split coefficient': '1.0'}, '2022-10-27': {'1. open': '229.77', '2. high': '233.81', '3. low': '222.85', '4. close': '225.09', '5. adjusted close': '225.09', '6. volume': '61638824', '7. dividend amount': '0.0000', '8. split coefficient': '1.0'}, '2022-10-26': {'1. open': '219.4', '2. high': '230.6', '3. low': '218.2', '4. close': '224.64', '5. adjusted close': '224.64', '6. volume': '85327078', '7. dividend amount': '0.0000', '8. split coefficient': '1.0'}, '2022-10-25': {'1. open': '210.1', '2. high': '224.3498', '3. low': '210.0', '4. close': '222.415', '5. adjusted close': '222.415', '6. volume': '96507870', '7. dividend amount': '0.0000', '8. split coefficient': '1.0'}}}\n"
     ]
    }
   ],
   "source": [
    "import requests\n",
    "\n",
    "# replace the \"demo\" apikey below with your own key from https://www.alphavantage.co/support/#api-key\n",
    "url = 'https://www.alphavantage.co/query?function=TIME_SERIES_DAILY_ADJUSTED&symbol=TSLA&&apikey=2N90AKICSZ4OMEEF'\n",
    "r = requests.get(url)\n",
    "daily_data = r.json()\n",
    "print(daily_data)"
   ]
  },
  {
   "cell_type": "markdown",
   "metadata": {},
   "source": [
    "convert dataset to array"
   ]
  },
  {
   "cell_type": "code",
   "execution_count": 5,
   "metadata": {},
   "outputs": [
    {
     "name": "stdout",
     "output_type": "stream",
     "text": [
      "[['178.08' '186.44' '176.35' '129684359']\n",
      " ['184.515' '186.2199' '177.33' '133197140']\n",
      " ['180.365' '185.81' '178.84' '121374453']\n",
      " ['180.8' '182.34' '176.03' '145995583']\n",
      " ['177.31' '183.8' '177.1401' '143717897']\n",
      " ['167.455' '177.35' '163.91' '167790256']\n",
      " ['175.13' '178.29' '168.44' '191488872']\n",
      " ['180.25' '185.18' '172.5124' '170023794']\n",
      " ['185.04' '186.5' '180.0' '151897763']\n",
      " ['191.38' '194.2' '186.1' '148125790']\n",
      " ['198.54' '198.6' '192.3' '128100106']\n",
      " ['194.795' '200.48' '192.88' '154193277']\n",
      " ['186.74' '193.7499' '186.01' '181979154']\n",
      " ['206.21' '207.2' '198.52' '156852790']\n",
      " ['210.59' '211.23' '203.75' '153144912']\n",
      " ['202.03' '209.42' '201.26' '161028315']\n",
      " ['196.325' '197.6695' '192.8' '142228105']\n",
      " ['203.91' '205.14' '196.33' '146359950']\n",
      " ['197.93' '201.99' '191.78' '191828457']\n",
      " ['204.99' '209.71' '197.22' '180018588']\n",
      " ['199.985' '208.44' '197.5' '213738549']\n",
      " ['210.78' '217.65' '201.84' '229586538']\n",
      " ['211.755' '214.66' '206.11' '182108581']\n",
      " ['191.94' '209.82' '189.44' '216455708']\n",
      " ['194.415' '196.3' '187.61' '172475452']\n",
      " ['202.225' '206.2' '192.89' '204754129']\n",
      " ['207.775' '214.0' '204.77' '215431442']\n",
      " ['196.1' '203.0' '194.31' '180673644']\n",
      " ['196.43' '197.5' '189.55' '186010325']\n",
      " ['193.01' '198.17' '189.92' '186188131']\n",
      " ['183.95' '199.0' '183.69' '232662023']\n",
      " ['187.325' '196.7501' '182.61' '217448287']\n",
      " ['173.89' '183.805' '169.93' '213806323']\n",
      " ['164.57' '174.3' '162.78' '196813541']\n",
      " ['178.05' '179.77' '166.5' '230878807']\n",
      " ['162.43' '180.68' '161.17' '306590613']\n",
      " ['159.965' '161.42' '154.76' '234815090']\n",
      " ['141.905' '146.41' '138.07' '192734347']\n",
      " ['143.0' '146.5' '141.1' '158699056']\n",
      " ['135.87' '145.3793' '134.27' '203119211']\n",
      " ['128.68' '133.51' '127.3466' '138858136']\n",
      " ['127.26' '129.99' '124.3082' '170291880']\n",
      " ['136.555' '136.68' '127.01' '195680318']\n",
      " ['125.695' '131.7' '125.02' '186476985']\n",
      " ['116.55' '122.63' '115.6' '180714119']\n",
      " ['122.56' '124.1311' '117.0' '169400913']\n",
      " ['122.09' '125.95' '120.51' '183810771']\n",
      " ['121.07' '122.76' '114.92' '167642485']\n",
      " ['118.96' '123.52' '117.11' '190283951']\n",
      " ['103.0' '114.39' '101.81' '220911051']\n",
      " ['110.51' '111.75' '107.1601' '157986324']\n",
      " ['109.11' '114.59' '107.52' '180388976']\n",
      " ['118.47' '118.8' '104.64' '231402818']\n",
      " ['119.95' '124.48' '119.75' '157777339']\n",
      " ['120.385' '123.57' '117.495' '221923313']\n",
      " ['110.35' '116.27' '108.24' '221070537']\n",
      " ['117.495' '119.67' '108.76' '208643444']\n",
      " ['126.37' '128.6173' '121.02' '166989688']\n",
      " ['136.0' '136.63' '122.26' '210090250']\n",
      " ['139.335' '141.26' '135.89' '145417412']\n",
      " ['146.05' '148.47' '137.66' '159563267']\n",
      " ['154.0' '155.25' '145.82' '139390634']\n",
      " ['159.635' '160.99' '150.04' '139032175']\n",
      " ['153.44' '160.9299' '153.28' '122334459']\n",
      " ['159.25' '161.62' '155.31' '140682338']\n",
      " ['174.87' '175.05' '156.91' '175862722']\n",
      " ['176.1' '177.37' '167.52' '109794471']\n",
      " ['173.84' '182.5' '173.36' '104872336']\n",
      " ['172.2' '175.2' '169.06' '97624491']\n",
      " ['175.03' '179.38' '172.218' '84213284']\n",
      " ['181.215' '183.65' '175.33' '92150823']\n",
      " ['189.44' '191.27' '180.55' '93122667']\n",
      " ['191.78' '196.25' '191.11' '73645922']\n",
      " ['197.08' '198.92' '191.8' '80046213']\n",
      " ['182.43' '194.76' '180.6301' '109186404']\n",
      " ['184.99' '186.38' '178.75' '83357111']\n",
      " ['179.96' '188.5' '179.0' '93038148']\n",
      " ['185.06' '185.2' '180.63' '50672739']\n",
      " ['173.57' '183.62' '172.5' '109536709']\n",
      " ['168.63' '170.92' '166.185' '78452327']\n",
      " ['175.85' '176.77' '167.54' '92882712']\n",
      " ['185.05' '185.19' '176.55' '76048866']\n",
      " ['183.96' '186.16' '180.9' '64335970']\n",
      " ['191.51' '192.57' '185.66' '66567599']\n",
      " ['195.88' '200.8237' '192.06' '91293785']\n",
      " ['192.77' '195.73' '186.34' '92226649']\n",
      " ['186.0' '196.52' '182.59' '114403575']\n",
      " ['189.9' '191.0' '180.03' '132703015']\n",
      " ['190.775' '195.89' '177.12' '127062659']\n",
      " ['194.02' '195.2' '186.75' '128803404']\n",
      " ['208.65' '208.9' '196.66' '93916520']\n",
      " ['222.6' '223.8' '203.08' '98622212']\n",
      " ['211.36' '221.2' '210.14' '56538848']\n",
      " ['226.04' '227.8699' '214.82' '63070293']\n",
      " ['234.05' '237.3951' '227.28' '62688822']\n",
      " ['226.19' '229.85' '221.94' '61554341']\n",
      " ['225.4' '228.86' '216.35' '69152386']\n",
      " ['229.77' '233.81' '222.85' '61638824']\n",
      " ['219.4' '230.6' '218.2' '85327078']\n",
      " ['210.1' '224.3498' '210.0' '96507870']]\n"
     ]
    }
   ],
   "source": [
    "df = pd.DataFrame(daily_data['Time Series (Daily)'])\n",
    "df = df.transpose()\n",
    "x_test = df[['1. open', '2. high', '3. low', '6. volume']].values\n",
    "y_test = df[['4. close']].values\n",
    "print (x_test)"
   ]
  },
  {
   "cell_type": "markdown",
   "metadata": {},
   "source": [
    "compare between the outcome and the prediction"
   ]
  },
  {
   "cell_type": "code",
   "execution_count": 6,
   "metadata": {},
   "outputs": [
    {
     "name": "stdout",
     "output_type": "stream",
     "text": [
      "[[180.86521887199962 '183.25']\n",
      " [181.27057950899894 '180.13']\n",
      " [183.06645967500125 '184.13']\n",
      " [179.6187083940002 '180.45']\n",
      " [181.74071715099905 '183.26']\n",
      " [173.35445640500032 '174.48']\n",
      " [173.12188734299988 '173.44']\n",
      " [177.21424804500006 '172.92']\n",
      " [184.36143213599976 '182.0']\n",
      " [190.04035893599843 '187.71']\n",
      " [193.7053809630019 '193.81']\n",
      " [197.34553167200093 '197.79']\n",
      " [190.49280930799947 '190.9']\n",
      " [200.0579322389988 '202.77']\n",
      " [206.32134937399957 '205.71']\n",
      " [203.99414972500114 '207.63']\n",
      " [195.10028000600175 '196.88']\n",
      " [199.12111219500085 '202.07']\n",
      " [195.41204865000046 '200.86']\n",
      " [200.73333272799903 '197.37']\n",
      " [201.70433237700072 '208.31']\n",
      " [214.2429597429998 '202.04']\n",
      " [209.99452201500046 '214.24']\n",
      " [200.99994104600114 '209.25']\n",
      " [190.2608905389997 '194.64']\n",
      " [200.34323166300058 '196.89']\n",
      " [209.27238074599984 '207.32']\n",
      " [198.59106085400168 '201.29']\n",
      " [193.87547976600146 '196.81']\n",
      " [195.05187015600129 '194.76']\n",
      " [195.63596267300082 '189.98']\n",
      " [191.30191248599846 '188.27']\n",
      " [176.3893582079997 '181.41']\n",
      " [171.48751702000158 '173.22']\n",
      " [172.9926977559997 '166.66']\n",
      " [173.34102721599993 '177.9']\n",
      " [161.16782859499895 '160.27']\n",
      " [141.4210399240005 '144.43']\n",
      " [142.44773881000106 '143.89']\n",
      " [142.99663840000082 '143.75']\n",
      " [128.98106944400115 '133.42']\n",
      " [128.05035710100154 '127.17']\n",
      " [130.70094178700035 '128.78']\n",
      " [128.2240472790015 '131.49']\n",
      " [117.82133987700068 '122.4']\n",
      " [119.46191935299953 '123.56']\n",
      " [121.32248843599972 '123.22']\n",
      " [117.8152898970006 '118.85']\n",
      " [119.71384945199951 '119.77']\n",
      " [107.94430967500006 '113.06']\n",
      " [109.0197206329991 '110.34']\n",
      " [109.84787058499874 '113.64']\n",
      " [113.55264060599907 '108.1']\n",
      " [121.5942992619997 '123.18']\n",
      " [120.42274923099941 '121.82']\n",
      " [112.0404301949986 '112.71']\n",
      " [115.09455027999924 '109.1']\n",
      " [122.2346088039997 '123.15']\n",
      " [125.98415987600006 '125.35']\n",
      " [138.9462907599993 '137.57']\n",
      " [145.5827408529996 '137.8']\n",
      " [148.91184841699956 '149.87']\n",
      " [156.39118963199974 '150.23']\n",
      " [156.78477938999967 '157.67']\n",
      " [161.20259863299893 '156.8']\n",
      " [167.83949953299944 '160.95']\n",
      " [173.10956689799983 '167.82']\n",
      " [178.866899086 '179.05']\n",
      " [174.1977663539993 '173.44']\n",
      " [177.43252777500027 '174.04']\n",
      " [180.03047810999956 '179.82']\n",
      " [185.55171217199864 '182.45']\n",
      " [193.23177943399892 '194.86']\n",
      " [194.68093175700108 '194.7']\n",
      " [188.98837287499757 '194.7']\n",
      " [182.86642059299984 '180.83']\n",
      " [184.12372975999986 '182.92']\n",
      " [183.99178202900043 '182.86']\n",
      " [178.35271845900004 '183.2']\n",
      " [167.92333911999975 '169.91']\n",
      " [173.16553699699978 '167.87']\n",
      " [179.71817926499958 '180.19']\n",
      " [184.62010283100025 '183.17']\n",
      " [187.94256951499915 '186.92']\n",
      " [196.60667140300072 '194.42']\n",
      " [190.28829923799867 '190.95']\n",
      " [190.74733235599834 '195.97']\n",
      " [185.19829144899856 '190.72']\n",
      " [183.766858742998 '177.59']\n",
      " [190.1007795879992 '191.3']\n",
      " [200.24126259399858 '197.08']\n",
      " [210.50845894799852 '207.47']\n",
      " [218.74697007099905 '215.31']\n",
      " [221.7413187049984 '214.98']\n",
      " [230.57976009000078 '227.82']\n",
      " [229.13244842900036 '227.54']\n",
      " [224.8510276799976 '228.52']\n",
      " [229.1613697489994 '225.09']\n",
      " [228.13606854699964 '224.64']\n",
      " [219.97660011999838 '222.415']]\n"
     ]
    }
   ],
   "source": [
    "y_pred = regressor.predict(x_test)\n",
    "np.set_printoptions(precision=2)\n",
    "print(np.concatenate((y_pred.reshape(len(y_pred), 1), (y_test.reshape(len(y_test), 1))), 1))"
   ]
  },
  {
   "cell_type": "markdown",
   "metadata": {},
   "source": [
    "calculate the efficiency via r-squared rule"
   ]
  },
  {
   "cell_type": "code",
   "execution_count": 7,
   "metadata": {},
   "outputs": [
    {
     "name": "stdout",
     "output_type": "stream",
     "text": [
      "0.9872107925210969\n"
     ]
    }
   ],
   "source": [
    "from sklearn.metrics import r2_score\n",
    "\n",
    "r_squared = r2_score(y_test, y_pred)\n",
    "print(r_squared)"
   ]
  },
  {
   "attachments": {},
   "cell_type": "markdown",
   "metadata": {},
   "source": [
    "perform a grid search cross validation"
   ]
  },
  {
   "cell_type": "code",
   "execution_count": 7,
   "metadata": {},
   "outputs": [
    {
     "name": "stdout",
     "output_type": "stream",
     "text": [
      "Fitting 5 folds for each of 232320 candidates, totalling 1161600 fits\n"
     ]
    }
   ],
   "source": [
    "from sklearn.model_selection import GridSearchCV\n",
    "\n",
    "## Define hyperparameter grid\n",
    "\n",
    "param_grid = {\n",
    "    'n_estimators': [1000],\n",
    "    'max_features': [6],\n",
    "    'random_state': [126], \n",
    "    'max_depth': [None, 2, 4, 6, 8, 10, 12, 14, 16, 18, 20],\n",
    "    'min_samples_split': [2, 4, 6, 8, 10, 12, 14, 16, 18, 20],\n",
    "    'min_samples_leaf': [1, 2, 4, 6, 8, 10, 12, 14, 16, 18, 20],\n",
    "    'bootstrap': [True, False]\n",
    "}\n",
    "\n",
    "grid_search = GridSearchCV(estimator=regressor, param_grid=param_grid, cv=5, n_jobs=-1, verbose=2)\n",
    "grid_search.fit(x_train, y_train)\n",
    "\n",
    "print(\"Best parameters: \", grid_search.best_params_)\n",
    "print(\"Best score: \", grid_search.best_score_)"
   ]
  }
 ],
 "metadata": {
  "kernelspec": {
   "display_name": "Python 3",
   "language": "python",
   "name": "python3"
  },
  "language_info": {
   "codemirror_mode": {
    "name": "ipython",
    "version": 3
   },
   "file_extension": ".py",
   "mimetype": "text/x-python",
   "name": "python",
   "nbconvert_exporter": "python",
   "pygments_lexer": "ipython3",
   "version": "3.10.4"
  },
  "orig_nbformat": 4
 },
 "nbformat": 4,
 "nbformat_minor": 2
}
